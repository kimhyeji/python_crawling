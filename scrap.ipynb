{
 "cells": [
  {
   "cell_type": "code",
   "execution_count": 11,
   "metadata": {},
   "outputs": [
    {
     "name": "stdout",
     "output_type": "stream",
     "text": [
      "[<a class=\"sister\" href=\"http://example.com/elsie\" id=\"link1\">Elsie</a>, <a class=\"sister\" href=\"http://example.com/lacie\" id=\"link2\">Lacie</a>, <a class=\"sister\" href=\"http://example.com/tillie\" id=\"link3\">Tillie</a>]\n",
      "<a class=\"sister\" href=\"http://example.com/lacie\" id=\"link2\">Lacie</a>\n",
      "http://example.com/lacie\n"
     ]
    }
   ],
   "source": [
    "import requests as req # request 모듈 => 웹페이지를 요청하고 응답데이터를 받을 수 있음\n",
    "from bs4 import BeautifulSoup # BeautifulSoup은 html 해석기\n",
    "request_headers = {'User-Agent': ('Mozilla/5.0 (Windows NT 10.0;Win64; x64)AppleWebKit/537.36 (KHTML, like Gecko) Chrome/71.0.3578.98Safari/537.36'), }\n",
    "\n",
    "response = req.get(\"https://www.naver.com/\", headers=request_headers) # 특정 사이트에 페이지를 요청. 응답데이터 반환\n",
    "# print(response.text)\n",
    "\n",
    "\n",
    "html_doc = \"\"\"<html><head><title>The Dormouse's story</title></head>\n",
    "<body>\n",
    "<p class=\"title\"><b>The Dormouse's story</b></p>\n",
    "\n",
    "<p class=\"story\">Once upon a time there were three little sisters; and their names were\n",
    "<a href=\"http://example.com/elsie\" class=\"sister\" id=\"link1\">Elsie</a>,\n",
    "<a href=\"http://example.com/lacie\" class=\"sister\" id=\"link2\">Lacie</a> and\n",
    "<a href=\"http://example.com/tillie\" class=\"sister\" id=\"link3\">Tillie</a>;\n",
    "and they lived at the bottom of a well.</p>\n",
    "\n",
    "<p class=\"story\">...</p>\n",
    "\"\"\"\n",
    "# print(html_doc)\n",
    "\n",
    "# soup을 이용해서 html_doc 문자열 파싱, 그 내용을 soup변수로 대입\n",
    "soup = BeautifulSoup(html_doc, 'html.parser')\n",
    "aList = soup.select('a')\n",
    "# a태그들 모두 가져오기\n",
    "print(aList)\n",
    "\n",
    "# a태그들 중 첫번 째만 가져오기\n",
    "print(aList[1])\n",
    "\n",
    "# 속성값 가져오기<태그명 속성명=\"속성값\">\n",
    "print(aList[1][\"href\"])\n",
    "\n",
    "# 태그 선택방법\n",
    "# 1. 태그 선택\n",
    "# 2. 후손 선택\n",
    "# 3. 자식 선택\n",
    "# 4. class 선택\n",
    "# 5. id 선택\n"
   ]
  },
  {
   "cell_type": "code",
   "execution_count": 15,
   "metadata": {},
   "outputs": [
    {
     "name": "stdout",
     "output_type": "stream",
     "text": [
      "‘스님 복장’ 男, 전국 공구업체서 “빌려달라”…사기 신고 속출\n"
     ]
    }
   ],
   "source": [
    "import requests as req\n",
    "from bs4 import BeautifulSoup\n",
    "\n",
    "response = req.get(\"https://news.naver.com/\")\n",
    "soup = BeautifulSoup(response.text, 'html.parser')\n",
    "\n",
    "title = soup.select(\".cjs_t\")\n",
    "print(title[0].text)"
   ]
  }
 ],
 "metadata": {
  "kernelspec": {
   "display_name": "Python 3",
   "language": "python",
   "name": "python3"
  },
  "language_info": {
   "codemirror_mode": {
    "name": "ipython",
    "version": 3
   },
   "file_extension": ".py",
   "mimetype": "text/x-python",
   "name": "python",
   "nbconvert_exporter": "python",
   "pygments_lexer": "ipython3",
   "version": "3.12.0"
  }
 },
 "nbformat": 4,
 "nbformat_minor": 2
}
